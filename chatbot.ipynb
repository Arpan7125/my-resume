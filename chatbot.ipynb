{
  "nbformat": 4,
  "nbformat_minor": 0,
  "metadata": {
    "colab": {
      "provenance": [],
      "authorship_tag": "ABX9TyNjSyZqPR8V5/6h+fIR4m71",
      "include_colab_link": true
    },
    "kernelspec": {
      "name": "python3",
      "display_name": "Python 3"
    },
    "language_info": {
      "name": "python"
    }
  },
  "cells": [
    {
      "cell_type": "markdown",
      "metadata": {
        "id": "view-in-github",
        "colab_type": "text"
      },
      "source": [
        "<a href=\"https://colab.research.google.com/github/Arpan7125/my-resume/blob/master/chatbot.ipynb\" target=\"_parent\"><img src=\"https://colab.research.google.com/assets/colab-badge.svg\" alt=\"Open In Colab\"/></a>"
      ]
    },
    {
      "cell_type": "code",
      "execution_count": 1,
      "metadata": {
        "id": "BPhIkD6tKb7s"
      },
      "outputs": [],
      "source": [
        "import re\n",
        "import random"
      ]
    },
    {
      "cell_type": "code",
      "source": [
        "class rulebot:\n",
        "  ### Potential Negative Responses\n",
        "  negative_responses=(\"No\", \"Nope\", \"Nah\",\"New\",\"Not a chance\",\"Sorry\")\n",
        "  ###exit  conversation keywords\n",
        "  exit_comands=(\"quit\",\"pause\",\"exit\",\"goodbye\",\"bye\",\"later\")\n",
        "  ### Random starter questions\n",
        ""
      ],
      "metadata": {
        "id": "Geuy1aKZK0TI"
      },
      "execution_count": null,
      "outputs": []
    }
  ]
}